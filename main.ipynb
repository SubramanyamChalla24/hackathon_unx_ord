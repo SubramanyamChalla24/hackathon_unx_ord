{
 "cells": [
  {
   "cell_type": "code",
   "execution_count": 3,
   "id": "initial_id",
   "metadata": {
    "collapsed": true,
    "ExecuteTime": {
     "end_time": "2024-03-17T15:59:26.182654Z",
     "start_time": "2024-03-17T15:59:24.342308Z"
    }
   },
   "outputs": [],
   "source": [
    "from ultralytics import YOLO\n",
    "\n",
    "# Define the paths to the configuration files and dataset\n",
    "data_yaml_path = '/home/subbu/projects/hackathon_unx_ord/data.yaml'  # Dataset configuration file"
   ]
  },
  {
   "cell_type": "code",
   "outputs": [],
   "source": [
    "\n",
    "# Define the paths to the configuration files and dataset\n",
    "# model = YOLO('yolov8n.pt')\n",
    "# results = model.train(\n",
    "#     data=data_yaml_path,\n",
    "#     imgsz=640,\n",
    "#     epochs=25,\n",
    "#     batch=4)\n"
   ],
   "metadata": {
    "collapsed": false
   },
   "id": "e97d187934e9816e",
   "execution_count": null
  },
  {
   "cell_type": "code",
   "outputs": [],
   "source": [
    "# Path where the trained model is saved\n",
    "model_path = './output/runs/detect/train3222/weights/best.pt'\n",
    "\n",
    "# Load the trained YOLO model\n",
    "model = YOLO(model_path)"
   ],
   "metadata": {
    "collapsed": false,
    "ExecuteTime": {
     "end_time": "2024-03-17T15:59:28.686193Z",
     "start_time": "2024-03-17T15:59:28.632781Z"
    }
   },
   "id": "76f482498d264b30",
   "execution_count": 4
  },
  {
   "cell_type": "code",
   "outputs": [
    {
     "name": "stdout",
     "output_type": "stream",
     "text": [
      "0: 448x640 1 Mortar mine M: 60 mm, 1 Fuse M: 125 mm, 48.8ms\n",
      "Speed: 3.0ms preprocess, 48.8ms inference, 0.4ms postprocess per image at shape (1, 3, 448, 640)\n"
     ]
    },
    {
     "data": {
      "text/plain": "'result.jpg'"
     },
     "execution_count": 7,
     "metadata": {},
     "output_type": "execute_result"
    }
   ],
   "source": [
    "results = model(['/home/subbu/projects/hackathon_unx_ord/data/UXOTi_NPA_11_class/Novi11/train/images/frame_000683.PNG'])  # return a list of Results objects\n",
    "results[0].save('result.jpg')"
   ],
   "metadata": {
    "collapsed": false,
    "ExecuteTime": {
     "end_time": "2024-03-17T16:02:31.990202Z",
     "start_time": "2024-03-17T16:02:31.898355Z"
    }
   },
   "id": "ee5b13d459f779fe",
   "execution_count": 7
  },
  {
   "cell_type": "code",
   "outputs": [],
   "source": [],
   "metadata": {
    "collapsed": false,
    "ExecuteTime": {
     "end_time": "2024-03-17T09:12:03.043141Z",
     "start_time": "2024-03-17T09:12:02.975302Z"
    }
   },
   "id": "dc61745645e86406",
   "execution_count": 7
  }
 ],
 "metadata": {
  "kernelspec": {
   "display_name": "Python 3",
   "language": "python",
   "name": "python3"
  },
  "language_info": {
   "codemirror_mode": {
    "name": "ipython",
    "version": 2
   },
   "file_extension": ".py",
   "mimetype": "text/x-python",
   "name": "python",
   "nbconvert_exporter": "python",
   "pygments_lexer": "ipython2",
   "version": "2.7.6"
  }
 },
 "nbformat": 4,
 "nbformat_minor": 5
}
