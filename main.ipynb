{
 "cells": [
  {
   "cell_type": "code",
   "execution_count": 20,
   "id": "initial_id",
   "metadata": {
    "collapsed": true,
    "ExecuteTime": {
     "end_time": "2024-03-17T16:16:01.721551Z",
     "start_time": "2024-03-17T16:16:01.717442Z"
    }
   },
   "outputs": [],
   "source": [
    "from ultralytics import YOLO\n",
    "import os\n",
    "from collections import Counter\n",
    "import pandas as pd\n",
    "# Define the paths to the configuration files and dataset\n",
    "data_yaml_path = '/home/subbu/projects/hackathon_unx_ord/data.yaml'  # Dataset configuration file"
   ]
  },
  {
   "cell_type": "code",
   "outputs": [],
   "source": [
    "\n",
    "# Define the paths to the configuration files and dataset\n",
    "# model = YOLO('yolov8n.pt')\n",
    "# results = model.train(\n",
    "#     data=data_yaml_path,\n",
    "#     imgsz=640,\n",
    "#     epochs=25,\n",
    "#     batch=4)\n"
   ],
   "metadata": {
    "collapsed": false
   },
   "id": "e97d187934e9816e",
   "execution_count": null
  },
  {
   "cell_type": "code",
   "outputs": [],
   "source": [
    "# Path where the trained model is saved\n",
    "model_path = './output/runs/detect/train3222/weights/best.pt'\n",
    "\n",
    "# Load the trained YOLO model\n",
    "model = YOLO(model_path)"
   ],
   "metadata": {
    "collapsed": false,
    "ExecuteTime": {
     "end_time": "2024-03-17T15:59:28.686193Z",
     "start_time": "2024-03-17T15:59:28.632781Z"
    }
   },
   "id": "76f482498d264b30",
   "execution_count": 4
  },
  {
   "cell_type": "code",
   "outputs": [
    {
     "name": "stdout",
     "output_type": "stream",
     "text": [
      "0: 448x640 1 Mortar mine M: 60 mm, 1 Fuse M: 125 mm, 48.8ms\n",
      "Speed: 3.0ms preprocess, 48.8ms inference, 0.4ms postprocess per image at shape (1, 3, 448, 640)\n"
     ]
    },
    {
     "data": {
      "text/plain": "'result.jpg'"
     },
     "execution_count": 7,
     "metadata": {},
     "output_type": "execute_result"
    }
   ],
   "source": [
    "results = model(['/home/subbu/projects/hackathon_unx_ord/data/UXOTi_NPA_11_class/Novi11/train/images/frame_000683.PNG'])  # return a list of Results objects\n",
    "results[0].save('result.jpg')"
   ],
   "metadata": {
    "collapsed": false,
    "ExecuteTime": {
     "end_time": "2024-03-17T16:02:31.990202Z",
     "start_time": "2024-03-17T16:02:31.898355Z"
    }
   },
   "id": "ee5b13d459f779fe",
   "execution_count": 7
  },
  {
   "cell_type": "code",
   "outputs": [],
   "source": [
    "class_names = {\n",
    "    0: 'Mortar mine M: 60 mm',\n",
    "    1: 'Fuse M: 125 mm',\n",
    "    2: 'Hand grenade',\n",
    "    3: 'AP land mine PMR capjinka',\n",
    "    4: 'Bullet 30.2 mm',\n",
    "    5: 'Land mine PMR 2A',\n",
    "    6: 'Mortar mine M: 82 mm',\n",
    "    7: 'Land mine PMR 3',\n",
    "    8: 'Land mine PROM 1',\n",
    "    9: 'Land mine PMA 3',\n",
    "    10: 'Tromblon mine TTM RP'\n",
    "}"
   ],
   "metadata": {
    "collapsed": false,
    "ExecuteTime": {
     "end_time": "2024-03-17T16:12:26.617709Z",
     "start_time": "2024-03-17T16:12:26.606882Z"
    }
   },
   "id": "4f91749861ee43f5",
   "execution_count": 18
  },
  {
   "cell_type": "code",
   "outputs": [
    {
     "name": "stdout",
     "output_type": "stream",
     "text": [
      "All classes present: True\n"
     ]
    },
    {
     "data": {
      "text/plain": "    Class ID                 Class Name  Train  Validation  Test  Total\n0          0       Mortar mine M: 60 mm    139          15    12    166\n1          1             Fuse M: 125 mm    161          15    11    187\n2          2               Hand grenade    161          18    10    189\n3          3  AP land mine PMR capjinka    121          19    14    154\n4          4             Bullet 30.2 mm    104          16    15    135\n5          5           Land mine PMR 2A    116          13    16    145\n6          6       Mortar mine M: 82 mm    136          20    31    187\n7          7            Land mine PMR 3    149          26    40    215\n8          8           Land mine PROM 1    150          23    27    200\n9          9            Land mine PMA 3    139          15    13    167\n10        10       Tromblon mine TTM RP     79           5     8     92",
      "text/html": "<div>\n<style scoped>\n    .dataframe tbody tr th:only-of-type {\n        vertical-align: middle;\n    }\n\n    .dataframe tbody tr th {\n        vertical-align: top;\n    }\n\n    .dataframe thead th {\n        text-align: right;\n    }\n</style>\n<table border=\"1\" class=\"dataframe\">\n  <thead>\n    <tr style=\"text-align: right;\">\n      <th></th>\n      <th>Class ID</th>\n      <th>Class Name</th>\n      <th>Train</th>\n      <th>Validation</th>\n      <th>Test</th>\n      <th>Total</th>\n    </tr>\n  </thead>\n  <tbody>\n    <tr>\n      <th>0</th>\n      <td>0</td>\n      <td>Mortar mine M: 60 mm</td>\n      <td>139</td>\n      <td>15</td>\n      <td>12</td>\n      <td>166</td>\n    </tr>\n    <tr>\n      <th>1</th>\n      <td>1</td>\n      <td>Fuse M: 125 mm</td>\n      <td>161</td>\n      <td>15</td>\n      <td>11</td>\n      <td>187</td>\n    </tr>\n    <tr>\n      <th>2</th>\n      <td>2</td>\n      <td>Hand grenade</td>\n      <td>161</td>\n      <td>18</td>\n      <td>10</td>\n      <td>189</td>\n    </tr>\n    <tr>\n      <th>3</th>\n      <td>3</td>\n      <td>AP land mine PMR capjinka</td>\n      <td>121</td>\n      <td>19</td>\n      <td>14</td>\n      <td>154</td>\n    </tr>\n    <tr>\n      <th>4</th>\n      <td>4</td>\n      <td>Bullet 30.2 mm</td>\n      <td>104</td>\n      <td>16</td>\n      <td>15</td>\n      <td>135</td>\n    </tr>\n    <tr>\n      <th>5</th>\n      <td>5</td>\n      <td>Land mine PMR 2A</td>\n      <td>116</td>\n      <td>13</td>\n      <td>16</td>\n      <td>145</td>\n    </tr>\n    <tr>\n      <th>6</th>\n      <td>6</td>\n      <td>Mortar mine M: 82 mm</td>\n      <td>136</td>\n      <td>20</td>\n      <td>31</td>\n      <td>187</td>\n    </tr>\n    <tr>\n      <th>7</th>\n      <td>7</td>\n      <td>Land mine PMR 3</td>\n      <td>149</td>\n      <td>26</td>\n      <td>40</td>\n      <td>215</td>\n    </tr>\n    <tr>\n      <th>8</th>\n      <td>8</td>\n      <td>Land mine PROM 1</td>\n      <td>150</td>\n      <td>23</td>\n      <td>27</td>\n      <td>200</td>\n    </tr>\n    <tr>\n      <th>9</th>\n      <td>9</td>\n      <td>Land mine PMA 3</td>\n      <td>139</td>\n      <td>15</td>\n      <td>13</td>\n      <td>167</td>\n    </tr>\n    <tr>\n      <th>10</th>\n      <td>10</td>\n      <td>Tromblon mine TTM RP</td>\n      <td>79</td>\n      <td>5</td>\n      <td>8</td>\n      <td>92</td>\n    </tr>\n  </tbody>\n</table>\n</div>"
     },
     "execution_count": 25,
     "metadata": {},
     "output_type": "execute_result"
    }
   ],
   "source": [
    "def count_classes_in_partition(label_dir):\n",
    "    counter = Counter()\n",
    "    for label_file in os.listdir(label_dir):\n",
    "        if label_file.endswith('.txt') and not label_file.startswith('classes'):\n",
    "            with open(os.path.join(label_dir, label_file), 'r') as file:\n",
    "                for line in file:\n",
    "                    class_id = int(line.split()[0])\n",
    "                    counter[class_id] += 1\n",
    "    return counter\n",
    "\n",
    "train_labels_path = './data/UXOTi_NPA_11_class/Novi11/train/labels/'\n",
    "val_labels_path = './data/UXOTi_NPA_11_class/Novi11/valid/labels/'\n",
    "test_labels_path = './data/UXOTi_NPA_11_class/Novi11/test/labels/'\n",
    "\n",
    "train_counter = count_classes_in_partition(train_labels_path)\n",
    "val_counter = count_classes_in_partition(val_labels_path)\n",
    "test_counter = count_classes_in_partition(test_labels_path)\n",
    "\n",
    "data = []\n",
    "for class_id, name in class_names.items():\n",
    "    row = {\n",
    "        'Class ID': class_id,\n",
    "        'Class Name': name,\n",
    "        'Train': train_counter[class_id],\n",
    "        'Validation': val_counter[class_id],\n",
    "        'Test': test_counter[class_id]\n",
    "    }\n",
    "    data.append(row)\n",
    "\n",
    "df = pd.DataFrame(data)\n",
    "df['Total'] = df['Train'] + df['Validation'] + df['Test']\n",
    "\n",
    "# Check for any class that is missing in any partition\n",
    "all_classes = set(train_counter) | set(val_counter) | set(test_counter)\n",
    "print(\"All classes present:\", all_classes == set(train_counter) == set(val_counter) == set(test_counter))\n",
    "\n",
    "df"
   ],
   "metadata": {
    "collapsed": false,
    "ExecuteTime": {
     "end_time": "2024-03-17T16:18:31.354789Z",
     "start_time": "2024-03-17T16:18:31.331148Z"
    }
   },
   "id": "dc61745645e86406",
   "execution_count": 25
  }
 ],
 "metadata": {
  "kernelspec": {
   "display_name": "Python 3",
   "language": "python",
   "name": "python3"
  },
  "language_info": {
   "codemirror_mode": {
    "name": "ipython",
    "version": 2
   },
   "file_extension": ".py",
   "mimetype": "text/x-python",
   "name": "python",
   "nbconvert_exporter": "python",
   "pygments_lexer": "ipython2",
   "version": "2.7.6"
  }
 },
 "nbformat": 4,
 "nbformat_minor": 5
}
